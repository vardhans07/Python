{
 "cells": [
  {
   "cell_type": "code",
   "execution_count": 1,
   "id": "4121a4a2",
   "metadata": {},
   "outputs": [],
   "source": [
    "def lastindex(arr, x):\n",
    "    l = len(arr)\n",
    "    if l == 0:\n",
    "        return -1"
   ]
  },
  {
   "cell_type": "code",
   "execution_count": null,
   "id": "d2818332",
   "metadata": {},
   "outputs": [],
   "source": [
    " smalleroutput = arr[1:]\n",
    "    print(smalleroutput)"
   ]
  },
  {
   "cell_type": "code",
   "execution_count": null,
   "id": "2aaa3a53",
   "metadata": {},
   "outputs": [],
   "source": [
    "smallerlistoutput = lastindex(smalleroutput, x)"
   ]
  },
  {
   "cell_type": "code",
   "execution_count": null,
   "id": "cf990145",
   "metadata": {},
   "outputs": [],
   "source": [
    "if smallerlistoutput != -1:\n",
    "        print(smallerlistoutput , end='_A_')              #test - 1\n",
    "        print(smallerlistoutput + 1, end='ha')             #test - 2\n",
    "        return smallerlistoutput + 1"
   ]
  },
  {
   "cell_type": "code",
   "execution_count": null,
   "id": "8c26921a",
   "metadata": {},
   "outputs": [],
   "source": [
    "else:\n",
    "        if arr[0] == x:\n",
    "            return 0"
   ]
  },
  {
   "cell_type": "code",
   "execution_count": null,
   "id": "3d0a1c49",
   "metadata": {},
   "outputs": [],
   "source": [
    " else:\n",
    "            return -1"
   ]
  },
  {
   "cell_type": "code",
   "execution_count": null,
   "id": "b2d1585c",
   "metadata": {},
   "outputs": [],
   "source": [
    "from sys import setrecursionlimit\n",
    "\n",
    "setrecursionlimit(11000)"
   ]
  },
  {
   "cell_type": "code",
   "execution_count": null,
   "id": "6b05ec9b",
   "metadata": {},
   "outputs": [],
   "source": [
    "n = int(input('Input Range:'))\n",
    "arr = list(int(i) for i in input('Array List:').strip().split(' '))\n",
    "x = int(input('To Find last index Number:'))\n",
    "print(lastindex(arr, x))\n"
   ]
  },
  {
   "cell_type": "code",
   "execution_count": null,
   "id": "58197a11",
   "metadata": {},
   "outputs": [],
   "source": [
    "'''\n",
    "Input Range:5\n",
    "Array List:2 3 5 2 3\n",
    "To Find last index Number:3\n",
    "\n",
    "\n",
    "'''"
   ]
  },
  {
   "cell_type": "code",
   "execution_count": null,
   "id": "8a5897f5",
   "metadata": {},
   "outputs": [],
   "source": [
    "'''\n",
    "[3, 5, 2, 3]\n",
    "[5, 2, 3]\n",
    "[2, 3]\n",
    "[3]\n",
    "[]\n",
    "\n",
    "Answer  = 0_A_1ha1_A_2ha2_A_3ha3_A_4ha ----> 4\n",
    "'''"
   ]
  }
 ],
 "metadata": {
  "kernelspec": {
   "display_name": "Python 3 (ipykernel)",
   "language": "python",
   "name": "python3"
  },
  "language_info": {
   "codemirror_mode": {
    "name": "ipython",
    "version": 3
   },
   "file_extension": ".py",
   "mimetype": "text/x-python",
   "name": "python",
   "nbconvert_exporter": "python",
   "pygments_lexer": "ipython3",
   "version": "3.10.8"
  }
 },
 "nbformat": 4,
 "nbformat_minor": 5
}
